{
 "cells": [
  {
   "cell_type": "markdown",
   "id": "b20a5bab-10b4-4f5d-a607-a69a4dad8f27",
   "metadata": {},
   "source": [
    "# Installing the necessary libraries"
   ]
  },
  {
   "cell_type": "code",
   "execution_count": 1,
   "id": "ca61c8f3-3119-4bb8-b057-23129a929cc2",
   "metadata": {},
   "outputs": [
    {
     "name": "stdout",
     "output_type": "stream",
     "text": [
      "Requirement already satisfied: numpy in /home/vlsidesign9/icdesignvirtual/lib/python3.6/site-packages (1.19.5)\n",
      "Requirement already satisfied: pandas in /home/vlsidesign9/icdesignvirtual/lib/python3.6/site-packages (1.1.5)\n",
      "Requirement already satisfied: matplotlib in /home/vlsidesign9/icdesignvirtual/lib/python3.6/site-packages (3.3.4)\n",
      "Requirement already satisfied: python-dateutil>=2.7.3 in /home/vlsidesign9/icdesignvirtual/lib/python3.6/site-packages (from pandas) (2.8.2)\n",
      "Requirement already satisfied: pytz>=2017.2 in /home/vlsidesign9/icdesignvirtual/lib/python3.6/site-packages (from pandas) (2022.7.1)\n",
      "Requirement already satisfied: cycler>=0.10 in /home/vlsidesign9/icdesignvirtual/lib/python3.6/site-packages (from matplotlib) (0.11.0)\n",
      "Requirement already satisfied: pillow>=6.2.0 in /home/vlsidesign9/icdesignvirtual/lib/python3.6/site-packages (from matplotlib) (8.4.0)\n",
      "Requirement already satisfied: pyparsing!=2.0.4,!=2.1.2,!=2.1.6,>=2.0.3 in /home/vlsidesign9/icdesignvirtual/lib/python3.6/site-packages (from matplotlib) (3.0.9)\n",
      "Requirement already satisfied: kiwisolver>=1.0.1 in /home/vlsidesign9/icdesignvirtual/lib/python3.6/site-packages (from matplotlib) (1.3.1)\n",
      "Requirement already satisfied: six>=1.5 in /home/vlsidesign9/icdesignvirtual/lib/python3.6/site-packages (from python-dateutil>=2.7.3->pandas) (1.16.0)\n",
      "\u001b[33mYou are using pip version 18.1, however version 21.3.1 is available.\n",
      "You should consider upgrading via the 'pip install --upgrade pip' command.\u001b[0m\n"
     ]
    }
   ],
   "source": [
    "!pip install numpy pandas matplotlib"
   ]
  },
  {
   "cell_type": "markdown",
   "id": "884765d9-1b48-496a-ab50-2435bad8ab07",
   "metadata": {},
   "source": [
    "# Importing the necessary libraries"
   ]
  },
  {
   "cell_type": "code",
   "execution_count": 1,
   "id": "4f88a973-3e96-43ad-b4e0-83c1d899c20a",
   "metadata": {},
   "outputs": [],
   "source": [
    "import os\n",
    "import numpy as np\n",
    "import pandas as pd\n",
    "import matplotlib.pyplot as plt\n",
    "import datetime"
   ]
  },
  {
   "cell_type": "markdown",
   "id": "ad78258c-0071-440a-9b11-a38f1a7e4653",
   "metadata": {},
   "source": [
    "# Making a list of the Verilog or SystemVerilog modules to be added to a Vivado Project for Automation"
   ]
  },
  {
   "cell_type": "code",
   "execution_count": 10,
   "id": "32d85fbf-e3b5-4cad-abe4-e6e2ebfa403e",
   "metadata": {},
   "outputs": [
    {
     "data": {
      "text/plain": [
       "['top_Memory_RW.sv',\n",
       " 'PGGen.v',\n",
       " 'top_fifo.sv',\n",
       " 'top_PE_struct.v',\n",
       " 'top_mealy_0011.v',\n",
       " 'top_moore_0011.v',\n",
       " 'top_multiplier.v',\n",
       " 'top_CLA8.v',\n",
       " 'top_CLA16.v',\n",
       " 'top_CLA32.v',\n",
       " 'top_RCA.v',\n",
       " 'top_CLA64.v',\n",
       " 'top_trafficsignal.sv',\n",
       " 'top_pipelined_conv.sv',\n",
       " 'top_PE_behav.v',\n",
       " '.ipynb_checkpoints']"
      ]
     },
     "execution_count": 10,
     "metadata": {},
     "output_type": "execute_result"
    }
   ],
   "source": [
    "modules = os.listdir(\"Modules\")\n",
    "modules"
   ]
  },
  {
   "cell_type": "code",
   "execution_count": 12,
   "id": "f9382768-d633-40b4-bb6c-93659fe62da0",
   "metadata": {},
   "outputs": [
    {
     "data": {
      "text/plain": [
       "['top_Memory_RW.sv',\n",
       " 'PGGen.v',\n",
       " 'top_fifo.sv',\n",
       " 'top_PE_struct.v',\n",
       " 'top_mealy_0011.v',\n",
       " 'top_moore_0011.v',\n",
       " 'top_multiplier.v',\n",
       " 'top_CLA8.v',\n",
       " 'top_CLA16.v',\n",
       " 'top_CLA32.v',\n",
       " 'top_RCA.v',\n",
       " 'top_CLA64.v',\n",
       " 'top_trafficsignal.sv',\n",
       " 'top_pipelined_conv.sv',\n",
       " 'top_PE_behav.v']"
      ]
     },
     "execution_count": 12,
     "metadata": {},
     "output_type": "execute_result"
    }
   ],
   "source": [
    "modules = [mod for mod in modules if mod[-2:] == \".v\" or mod[-3:] == \".sv\"]\n",
    "modules"
   ]
  },
  {
   "cell_type": "markdown",
   "id": "92b23fd9-563c-456b-a9c1-ac4411190acf",
   "metadata": {},
   "source": [
    "# Modifying the tcl_add.tcl script w.r.t the input verilog modules"
   ]
  },
  {
   "cell_type": "code",
   "execution_count": 8,
   "id": "f09cd8fa-4bda-44cb-a8dc-2873f9aad6d3",
   "metadata": {},
   "outputs": [
    {
     "data": {
      "text/plain": [
       "['create_project -force Automation_modules [pwd]/Automation -part xc7a35tcpg236-1\\n',\n",
       " 'set_property board_part digilentinc.com:basys3:part0:1.1 [current_project]\\n',\n",
       " 'update_compile_order -fileset sources_1\\n',\n",
       " '\\n',\n",
       " 'add_files -norecurse [pwd]/Modules/top_Memory_RW.sv\\n',\n",
       " 'add_files -norecurse [pwd]/Modules/PGGen.v\\n',\n",
       " 'add_files -norecurse [pwd]/Modules/top_fifo.sv\\n',\n",
       " 'add_files -norecurse [pwd]/Modules/top_PE_struct.v\\n',\n",
       " 'add_files -norecurse [pwd]/Modules/top_mealy_0011.v\\n',\n",
       " 'add_files -norecurse [pwd]/Modules/top_moore_0011.v\\n',\n",
       " 'add_files -norecurse [pwd]/Modules/top_multiplier.v\\n',\n",
       " 'add_files -norecurse [pwd]/Modules/top_CLA8.v\\n',\n",
       " 'add_files -norecurse [pwd]/Modules/top_CLA16.v\\n',\n",
       " 'add_files -norecurse [pwd]/Modules/top_CLA32.v\\n',\n",
       " 'add_files -norecurse [pwd]/Modules/top_RCA.v\\n',\n",
       " 'add_files -norecurse [pwd]/Modules/top_CLA64.v\\n',\n",
       " 'add_files -norecurse [pwd]/Modules/top_trafficsignal.sv\\n',\n",
       " 'add_files -norecurse [pwd]/Modules/top_pipelined_conv.sv\\n',\n",
       " 'add_files -norecurse [pwd]/Modules/top_PE_behav.v\\n',\n",
       " '\\n',\n",
       " 'update_compile_order -fileset sources_1\\n',\n",
       " '\\n',\n",
       " 'close_project\\n']"
      ]
     },
     "execution_count": 8,
     "metadata": {},
     "output_type": "execute_result"
    }
   ],
   "source": [
    "with open('Scripting/Script/tcl_add.tcl','r') as f:\n",
    "    commands = f.readlines()\n",
    "commands"
   ]
  },
  {
   "cell_type": "code",
   "execution_count": 13,
   "id": "9707281b-288d-4f2e-b3df-79e99809ea1c",
   "metadata": {},
   "outputs": [
    {
     "data": {
      "text/plain": [
       "['add_files -norecurse [pwd]/Modules/top_Memory_RW.sv',\n",
       " 'add_files -norecurse [pwd]/Modules/PGGen.v',\n",
       " 'add_files -norecurse [pwd]/Modules/top_fifo.sv',\n",
       " 'add_files -norecurse [pwd]/Modules/top_PE_struct.v',\n",
       " 'add_files -norecurse [pwd]/Modules/top_mealy_0011.v',\n",
       " 'add_files -norecurse [pwd]/Modules/top_moore_0011.v',\n",
       " 'add_files -norecurse [pwd]/Modules/top_multiplier.v',\n",
       " 'add_files -norecurse [pwd]/Modules/top_CLA8.v',\n",
       " 'add_files -norecurse [pwd]/Modules/top_CLA16.v',\n",
       " 'add_files -norecurse [pwd]/Modules/top_CLA32.v',\n",
       " 'add_files -norecurse [pwd]/Modules/top_RCA.v',\n",
       " 'add_files -norecurse [pwd]/Modules/top_CLA64.v',\n",
       " 'add_files -norecurse [pwd]/Modules/top_trafficsignal.sv',\n",
       " 'add_files -norecurse [pwd]/Modules/top_pipelined_conv.sv',\n",
       " 'add_files -norecurse [pwd]/Modules/top_PE_behav.v']"
      ]
     },
     "execution_count": 13,
     "metadata": {},
     "output_type": "execute_result"
    }
   ],
   "source": [
    "new_commands = [\"add_files -norecurse [pwd]/Modules/\" + mod for mod in modules]\n",
    "new_commands"
   ]
  },
  {
   "cell_type": "code",
   "execution_count": 6,
   "id": "ee03542b-8d74-48eb-bbf0-7b8379be3119",
   "metadata": {},
   "outputs": [],
   "source": [
    "commands.insert(4, '\\n'.join(new_commands))\n",
    "\n",
    "with open('Scripting/Script/tcl_add.tcl','w') as f:\n",
    "    f.writelines(commands)"
   ]
  },
  {
   "cell_type": "markdown",
   "id": "5f734072-97c1-4e96-a7d7-be745b86ae0c",
   "metadata": {},
   "source": [
    "# Running the bash command on the bash terminal to run the tcl_add.tcl script\n",
    "- The tcl_add.tcl script creates a new vivado project by the name mentioned in the script and adds the input verilog modules to it. "
   ]
  },
  {
   "cell_type": "code",
   "execution_count": 6,
   "id": "7203d348-0e6a-4377-a988-95a41eede015",
   "metadata": {},
   "outputs": [
    {
     "name": "stdout",
     "output_type": "stream",
     "text": [
      "Modules have been added to a new vivado project\n"
     ]
    }
   ],
   "source": [
    "os.system(\"vivado -mode batch -source Scripting/Script/tcl_add.tcl\")\n",
    "print(\"Modules have been added to a new vivado project\")"
   ]
  },
  {
   "cell_type": "code",
   "execution_count": 7,
   "id": "82c424d2-3728-46fe-ab1a-269c656df7b8",
   "metadata": {},
   "outputs": [
    {
     "data": {
      "text/plain": [
       "0"
      ]
     },
     "execution_count": 7,
     "metadata": {},
     "output_type": "execute_result"
    }
   ],
   "source": [
    "os.system(\"vivado\")"
   ]
  },
  {
   "cell_type": "markdown",
   "id": "ec040123-8a01-49d6-b6e1-bac14e2a03e7",
   "metadata": {},
   "source": [
    "# Making a list of all the top_modules to be automated"
   ]
  },
  {
   "cell_type": "code",
   "execution_count": 6,
   "id": "ba3cf6a3-62d4-417a-a6c1-fa4e3dd0ff03",
   "metadata": {},
   "outputs": [
    {
     "data": {
      "text/plain": [
       "['top_Memory_RW',\n",
       " 'top_fifo',\n",
       " 'top_PE_struct',\n",
       " 'top_mealy_0011',\n",
       " 'top_moore_0011',\n",
       " 'top_multiplier',\n",
       " 'top_CLA8',\n",
       " 'top_CLA16',\n",
       " 'top_CLA32',\n",
       " 'top_RCA',\n",
       " 'top_CLA64',\n",
       " 'top_trafficsignal',\n",
       " 'top_pipelined_conv',\n",
       " 'top_PE_behav']"
      ]
     },
     "execution_count": 6,
     "metadata": {},
     "output_type": "execute_result"
    }
   ],
   "source": [
    "top_modules = []\n",
    "for tmod in modules:\n",
    "    if(tmod[:3] == \"top\"):\n",
    "        if(tmod[-2:]!=\"sv\"):\n",
    "            top_modules.append(tmod[:-2])\n",
    "        else:\n",
    "            top_modules.append(tmod[:-3])\n",
    "top_modules"
   ]
  },
  {
   "cell_type": "markdown",
   "id": "f40f93ce-4606-4e59-b9fe-f677a291ad72",
   "metadata": {},
   "source": [
    "# Creating directories for each top module to store the synthesized and implemented reports"
   ]
  },
  {
   "cell_type": "code",
   "execution_count": 7,
   "id": "e94cb38b-80f1-4627-b0a6-782d27cd7a70",
   "metadata": {},
   "outputs": [
    {
     "ename": "FileExistsError",
     "evalue": "[Errno 17] File exists: 'Synthesized_Reports'",
     "output_type": "error",
     "traceback": [
      "\u001b[0;31m---------------------------------------------------------------------------\u001b[0m",
      "\u001b[0;31mFileExistsError\u001b[0m                           Traceback (most recent call last)",
      "\u001b[0;32m<ipython-input-7-45c87c7dea2a>\u001b[0m in \u001b[0;36m<module>\u001b[0;34m\u001b[0m\n\u001b[0;32m----> 1\u001b[0;31m \u001b[0mos\u001b[0m\u001b[0;34m.\u001b[0m\u001b[0mmkdir\u001b[0m\u001b[0;34m(\u001b[0m\u001b[0;34m\"Synthesized_Reports\"\u001b[0m\u001b[0;34m)\u001b[0m\u001b[0;34m\u001b[0m\u001b[0;34m\u001b[0m\u001b[0m\n\u001b[0m\u001b[1;32m      2\u001b[0m \u001b[0;32mfor\u001b[0m \u001b[0mtmod\u001b[0m \u001b[0;32min\u001b[0m \u001b[0mtop_modules\u001b[0m\u001b[0;34m:\u001b[0m\u001b[0;34m\u001b[0m\u001b[0;34m\u001b[0m\u001b[0m\n\u001b[1;32m      3\u001b[0m     \u001b[0mos\u001b[0m\u001b[0;34m.\u001b[0m\u001b[0mmkdir\u001b[0m\u001b[0;34m(\u001b[0m\u001b[0;34m\"Synthesized_Reports/\"\u001b[0m \u001b[0;34m+\u001b[0m \u001b[0mtmod\u001b[0m\u001b[0;34m)\u001b[0m\u001b[0;34m\u001b[0m\u001b[0;34m\u001b[0m\u001b[0m\n",
      "\u001b[0;31mFileExistsError\u001b[0m: [Errno 17] File exists: 'Synthesized_Reports'"
     ]
    }
   ],
   "source": [
    "os.mkdir(\"Synthesized_Reports\")\n",
    "for tmod in top_modules:\n",
    "    os.mkdir(\"Synthesized_Reports/\" + tmod)"
   ]
  },
  {
   "cell_type": "code",
   "execution_count": 8,
   "id": "343e4be1-1918-4991-bb9a-0b935c1de995",
   "metadata": {},
   "outputs": [
    {
     "ename": "FileExistsError",
     "evalue": "[Errno 17] File exists: 'Implementation_Reports'",
     "output_type": "error",
     "traceback": [
      "\u001b[0;31m---------------------------------------------------------------------------\u001b[0m",
      "\u001b[0;31mFileExistsError\u001b[0m                           Traceback (most recent call last)",
      "\u001b[0;32m<ipython-input-8-7853e9c6c5ea>\u001b[0m in \u001b[0;36m<module>\u001b[0;34m\u001b[0m\n\u001b[0;32m----> 1\u001b[0;31m \u001b[0mos\u001b[0m\u001b[0;34m.\u001b[0m\u001b[0mmkdir\u001b[0m\u001b[0;34m(\u001b[0m\u001b[0;34m\"Implementation_Reports\"\u001b[0m\u001b[0;34m)\u001b[0m\u001b[0;34m\u001b[0m\u001b[0;34m\u001b[0m\u001b[0m\n\u001b[0m\u001b[1;32m      2\u001b[0m \u001b[0;32mfor\u001b[0m \u001b[0mtmod\u001b[0m \u001b[0;32min\u001b[0m \u001b[0mtop_modules\u001b[0m\u001b[0;34m:\u001b[0m\u001b[0;34m\u001b[0m\u001b[0;34m\u001b[0m\u001b[0m\n\u001b[1;32m      3\u001b[0m     \u001b[0mos\u001b[0m\u001b[0;34m.\u001b[0m\u001b[0mmkdir\u001b[0m\u001b[0;34m(\u001b[0m\u001b[0;34m\"Implementation_Reports/\"\u001b[0m \u001b[0;34m+\u001b[0m \u001b[0mtmod\u001b[0m\u001b[0;34m)\u001b[0m\u001b[0;34m\u001b[0m\u001b[0;34m\u001b[0m\u001b[0m\n",
      "\u001b[0;31mFileExistsError\u001b[0m: [Errno 17] File exists: 'Implementation_Reports'"
     ]
    }
   ],
   "source": [
    "os.mkdir(\"Implementation_Reports\")\n",
    "for tmod in top_modules:\n",
    "    os.mkdir(\"Implementation_Reports/\" + tmod)"
   ]
  },
  {
   "cell_type": "markdown",
   "id": "4d7b7ef9-448f-4700-be31-fb7d5724e0fc",
   "metadata": {},
   "source": [
    "# Running the bash command in the bash terminal to run the tcl_run.tcl script\n",
    "- The tcl_run.tcl script automates the synthesis and implementation of verilog modules and stores the power, timing, and utilization reports for each case in the directory mentioned in the script.\n",
    "- I have also incorporated error handling functionalties to it.\n",
    "- So, when a verilog module fails either synthesis or implementation or both, its runme.log file which contains the error message of the automation will be stored in the directory mentioned in the script for the user to identify the error.\n",
    "- Additionally, the script also writes out a .txt file on whether it is synthesizable/implementable or not in the directory mentioned in the script."
   ]
  },
  {
   "cell_type": "code",
   "execution_count": 9,
   "id": "2dc0a3e3-81c2-453e-8eea-f9ad9ce30694",
   "metadata": {},
   "outputs": [
    {
     "name": "stdout",
     "output_type": "stream",
     "text": [
      "Automating top_Memory_RW module: ....................\n",
      "Module Synthesizable and its reports are generated\n",
      "Module not implementable\n",
      "Automation of top_Memory_RW module completed!\n",
      "Duration of automation for top_Memory_RW module:  0:02:47.395539\n",
      "\n",
      "\n",
      "Automating top_fifo module: ....................\n",
      "Module Synthesizable and its reports are generated\n",
      "Module Implemented and its reports are generated\n",
      "Automation of top_fifo module completed!\n",
      "Duration of automation for top_fifo module:  0:03:09.384165\n",
      "\n",
      "\n",
      "Automating top_PE_struct module: ....................\n",
      "Module Synthesizable and its reports are generated\n",
      "Module Implemented and its reports are generated\n",
      "Automation of top_PE_struct module completed!\n",
      "Duration of automation for top_PE_struct module:  0:03:11.873579\n",
      "\n",
      "\n",
      "Automating top_mealy_0011 module: ....................\n",
      "Module Synthesizable and its reports are generated\n",
      "Module Implemented and its reports are generated\n",
      "Automation of top_mealy_0011 module completed!\n",
      "Duration of automation for top_mealy_0011 module:  0:03:14.309732\n",
      "\n",
      "\n",
      "Automating top_moore_0011 module: ....................\n",
      "Module Synthesizable and its reports are generated\n",
      "Module Implemented and its reports are generated\n",
      "Automation of top_moore_0011 module completed!\n",
      "Duration of automation for top_moore_0011 module:  0:03:11.380850\n",
      "\n",
      "\n",
      "Automating top_multiplier module: ....................\n",
      "Module Synthesizable and its reports are generated\n",
      "Module Implemented and its reports are generated\n",
      "Automation of top_multiplier module completed!\n",
      "Duration of automation for top_multiplier module:  0:03:21.214049\n",
      "\n",
      "\n",
      "Automating top_CLA8 module: ....................\n",
      "Module Synthesizable and its reports are generated\n",
      "Module Implemented and its reports are generated\n",
      "Automation of top_CLA8 module completed!\n",
      "Duration of automation for top_CLA8 module:  0:03:10.316648\n",
      "\n",
      "\n",
      "Automating top_CLA16 module: ....................\n",
      "Module Synthesizable and its reports are generated\n",
      "Module Implemented and its reports are generated\n",
      "Automation of top_CLA16 module completed!\n",
      "Duration of automation for top_CLA16 module:  0:03:06.024210\n",
      "\n",
      "\n",
      "Automating top_CLA32 module: ....................\n",
      "Module Synthesizable and its reports are generated\n",
      "Module Implemented and its reports are generated\n",
      "Automation of top_CLA32 module completed!\n",
      "Duration of automation for top_CLA32 module:  0:03:22.372714\n",
      "\n",
      "\n",
      "Automating top_RCA module: ....................\n",
      "Module Synthesizable and its reports are generated\n",
      "Module Implemented and its reports are generated\n",
      "Automation of top_RCA module completed!\n",
      "Duration of automation for top_RCA module:  0:03:14.468561\n",
      "\n",
      "\n",
      "Automating top_CLA64 module: ....................\n",
      "Module Synthesizable and its reports are generated\n",
      "Module not implementable\n",
      "Automation of top_CLA64 module completed!\n",
      "Duration of automation for top_CLA64 module:  0:03:11.634559\n",
      "\n",
      "\n",
      "Automating top_trafficsignal module: ....................\n",
      "Module Synthesizable and its reports are generated\n",
      "Module Implemented and its reports are generated\n",
      "Automation of top_trafficsignal module completed!\n",
      "Duration of automation for top_trafficsignal module:  0:03:21.672616\n",
      "\n",
      "\n",
      "Automating top_pipelined_conv module: ....................\n",
      "Module Synthesizable and its reports are generated\n",
      "Module Implemented and its reports are generated\n",
      "Automation of top_pipelined_conv module completed!\n",
      "Duration of automation for top_pipelined_conv module:  0:06:49.643000\n",
      "\n",
      "\n",
      "Automating top_PE_behav module: ....................\n",
      "Module Synthesizable and its reports are generated\n",
      "Module Implemented and its reports are generated\n",
      "Automation of top_PE_behav module completed!\n",
      "Duration of automation for top_PE_behav module:  0:03:14.526490\n",
      "\n",
      "\n",
      "Automation of all the top modules completed!\n"
     ]
    }
   ],
   "source": [
    "for tmod in top_modules:\n",
    "    print(\"Automating \" + tmod + \" module: ....................\")\n",
    "    start_time = datetime.datetime.now()\n",
    "    os.system(\"vivado -mode batch -source Scripting/Script/tcl_run.tcl -tclargs {}\".format(tmod))\n",
    "    end_time = datetime.datetime.now()\n",
    "    \n",
    "    is_synth_file = \"Synthesized_Reports/\" + tmod + \"/Is_Synth.txt\"\n",
    "    is_impl_file = \"Implementation_Reports/\" + tmod + \"/Is_Impl.txt\"\n",
    "    \n",
    "    with open(is_synth_file, \"r\") as file:\n",
    "        line = file.readline()\n",
    "        if(line.split()[0] == \"YES\"):\n",
    "            print(\"Module Synthesizable and its reports are generated\")\n",
    "        else:\n",
    "            print(\"Module not synthesizable\")\n",
    "            \n",
    "    with open(is_impl_file, \"r\") as file:\n",
    "        line = file.readline()\n",
    "        if(line.split()[0] == \"YES\"):\n",
    "            print(\"Module Implemented and its reports are generated\")\n",
    "        else:\n",
    "            print(\"Module not implementable\")\n",
    "    \n",
    "    print(\"Automation of \" + tmod + \" module completed!\")\n",
    "    print(\"Duration of automation for \" + tmod + \" module: \", end_time - start_time)\n",
    "    print(\"\\n\")\n",
    "\n",
    "print(\"Automation of all the top modules completed!\")"
   ]
  },
  {
   "cell_type": "markdown",
   "id": "42374789-3670-4cad-85d8-12d392071d3c",
   "metadata": {},
   "source": [
    "# List of column headings for tabulating the synthesized/implemented results"
   ]
  },
  {
   "cell_type": "code",
   "execution_count": 10,
   "id": "2c26f182-2250-4bd1-b30b-4e0096c603c2",
   "metadata": {},
   "outputs": [
    {
     "data": {
      "text/plain": [
       "['File Name',\n",
       " 'Is_Synthesisable',\n",
       " 'Is_Implementable',\n",
       " 'Signal Power(w)',\n",
       " 'Logic Power(w)',\n",
       " 'Static Power(w)',\n",
       " 'I/O Power(w)',\n",
       " 'Total Power(w)',\n",
       " 'DataPath Delay(ns)',\n",
       " 'F7_Muxes',\n",
       " 'LUT_as_Memory',\n",
       " 'LUT_as_Logic',\n",
       " 'Slice_LUTs',\n",
       " 'LUT1',\n",
       " 'LUT2',\n",
       " 'LUT3',\n",
       " 'LUT4',\n",
       " 'LUT5',\n",
       " 'LUT6',\n",
       " 'LUT7',\n",
       " 'LUT_as_Memory2',\n",
       " 'LUT_as_Logic2',\n",
       " 'Slice_LUTs2',\n",
       " 'LUTs_difference']"
      ]
     },
     "execution_count": 10,
     "metadata": {},
     "output_type": "execute_result"
    }
   ],
   "source": [
    "heading = [\"File Name\", \"Is_Synthesisable\", \"Is_Implementable\", \"Signal Power(w)\", \"Logic Power(w)\", \"Static Power(w)\", \"I/O Power(w)\", \"Total Power(w)\", \"DataPath Delay(ns)\", \"F7_Muxes\", \"LUT_as_Memory\", \"LUT_as_Logic\", \"Slice_LUTs\", \"LUT1\", \"LUT2\", \"LUT3\", \"LUT4\", \"LUT5\", \"LUT6\", \"LUT7\", \"LUT_as_Memory2\", \"LUT_as_Logic2\", \"Slice_LUTs2\", \"LUTs_difference\"]\n",
    "heading"
   ]
  },
  {
   "cell_type": "markdown",
   "id": "4583f19e-8fb0-49e7-82dc-4b3210a0f6db",
   "metadata": {},
   "source": [
    "# Extracting the respective data from the isynthesized/implemented reports and storing it in a list\n",
    "- For the modules which have successfully got implemented, we will extract the respective data from their implemented power, timing and utilization reports.\n",
    "- For the modules which have failed the implementation, we will extract the data from their synthesized power, timing and utilization reports.\n",
    "- I have also included two more columns to indicate whether the respective modules have synthesized/implemeneted or not. \n",
    "- This would give the user an idea that if a module is not implemented, then the data that he will be viewing will be the post-synthesis data and not the implemented data."
   ]
  },
  {
   "cell_type": "code",
   "execution_count": 11,
   "id": "4352342a-42db-4b63-a3b6-4f28e526e5d9",
   "metadata": {},
   "outputs": [
    {
     "data": {
      "text/plain": [
       "{'top_Memory_RW': 'YES',\n",
       " 'top_fifo': 'YES',\n",
       " 'top_PE_struct': 'YES',\n",
       " 'top_mealy_0011': 'YES',\n",
       " 'top_moore_0011': 'YES',\n",
       " 'top_multiplier': 'YES',\n",
       " 'top_CLA8': 'YES',\n",
       " 'top_CLA16': 'YES',\n",
       " 'top_CLA32': 'YES',\n",
       " 'top_RCA': 'YES',\n",
       " 'top_CLA64': 'YES',\n",
       " 'top_trafficsignal': 'YES',\n",
       " 'top_pipelined_conv': 'YES',\n",
       " 'top_PE_behav': 'YES'}"
      ]
     },
     "execution_count": 11,
     "metadata": {},
     "output_type": "execute_result"
    }
   ],
   "source": [
    "is_synth = []\n",
    "synth_dict = {}\n",
    "for tmod in top_modules:\n",
    "    is_synth_file = \"Synthesized_Reports/\" + tmod + \"/Is_Synth.txt\"\n",
    "    # is_impl_file = \"Implementation_Reports/\" + tmod + \"/Is_Impl.txt\"\n",
    "    with open(is_synth_file, \"r\") as file:\n",
    "        line = file.readline()\n",
    "        is_synth.append(line.split()[0])\n",
    "        synth_dict[tmod] = line.split()[0]\n",
    "\n",
    "synth_dict"
   ]
  },
  {
   "cell_type": "code",
   "execution_count": 12,
   "id": "7cb0534d-02b3-4b5b-b593-cc6d50defee7",
   "metadata": {},
   "outputs": [
    {
     "data": {
      "text/plain": [
       "{'top_Memory_RW': 'NO',\n",
       " 'top_fifo': 'YES',\n",
       " 'top_PE_struct': 'YES',\n",
       " 'top_mealy_0011': 'YES',\n",
       " 'top_moore_0011': 'YES',\n",
       " 'top_multiplier': 'YES',\n",
       " 'top_CLA8': 'YES',\n",
       " 'top_CLA16': 'YES',\n",
       " 'top_CLA32': 'YES',\n",
       " 'top_RCA': 'YES',\n",
       " 'top_CLA64': 'NO',\n",
       " 'top_trafficsignal': 'YES',\n",
       " 'top_pipelined_conv': 'YES',\n",
       " 'top_PE_behav': 'YES'}"
      ]
     },
     "execution_count": 12,
     "metadata": {},
     "output_type": "execute_result"
    }
   ],
   "source": [
    "is_impl = []\n",
    "impl_dict = {}\n",
    "for tmod in top_modules:\n",
    "    # is_synth_file = \"Synthesized_Reports/\" + tmod + \"/Is_Synth.txt\"\n",
    "    is_impl_file = \"Implementation_Reports/\" + tmod + \"/Is_Impl.txt\"\n",
    "    with open(is_impl_file, \"r\") as file:\n",
    "        line = file.readline()\n",
    "        is_impl.append(line.split()[0])\n",
    "        impl_dict[tmod] = line.split()[0]\n",
    "\n",
    "impl_dict"
   ]
  },
  {
   "cell_type": "code",
   "execution_count": 13,
   "id": "ee8275aa-7458-49e0-a8cd-25dfdf99fcbc",
   "metadata": {},
   "outputs": [
    {
     "data": {
      "text/plain": [
       "[1.889,\n",
       " 0.0,\n",
       " 0.049,\n",
       " 0.13,\n",
       " 0.129,\n",
       " 0.14,\n",
       " 0.167,\n",
       " 0.5,\n",
       " 1.749,\n",
       " 0.174,\n",
       " 2.395,\n",
       " 0.154,\n",
       " 118.092,\n",
       " 0.041]"
      ]
     },
     "execution_count": 13,
     "metadata": {},
     "output_type": "execute_result"
    }
   ],
   "source": [
    "signal_power = []\n",
    "\n",
    "for tmod in top_modules:\n",
    "    if(impl_dict[tmod] == \"YES\"):\n",
    "        with open(\"Implementation_Reports/{}/power.txt\".format(tmod), \"r\") as f:\n",
    "            lines = f.read()\n",
    "            s_lines = lines.split(\"\\n\")\n",
    "            sp_info = []\n",
    "            line = None\n",
    "            for info in s_lines:\n",
    "                if \"Signals\" in info:\n",
    "                    line = info\n",
    "                    sp_info.append(line)\n",
    "            if line is None:\n",
    "                signal_power.append(float(0))\n",
    "            else:\n",
    "                signal_power.append(float(sp_info[0].split('|')[2].strip()))\n",
    "            \n",
    "    else:\n",
    "        with open(\"Synthesized_Reports/{}/power.txt\".format(tmod), \"r\") as f:\n",
    "            lines = f.read()\n",
    "            s_lines = lines.split(\"\\n\")\n",
    "            sp_info = []\n",
    "            line = None\n",
    "            for info in s_lines:\n",
    "                if \"Signals\" in info:\n",
    "                    line = info\n",
    "                    sp_info.append(line)\n",
    "            if line is None:\n",
    "                signal_power.append(float(0))\n",
    "            else:\n",
    "                signal_power.append(float(sp_info[0].split('|')[2].strip()))\n",
    "                \n",
    "signal_power"
   ]
  },
  {
   "cell_type": "code",
   "execution_count": 14,
   "id": "17292d66-f040-44c3-805f-0f4808d7c99b",
   "metadata": {},
   "outputs": [
    {
     "data": {
      "text/plain": [
       "[0.006,\n",
       " 0.0,\n",
       " 0.021,\n",
       " 0.097,\n",
       " 0.098,\n",
       " 0.08,\n",
       " 0.065,\n",
       " 0.194,\n",
       " 0.505,\n",
       " 0.052,\n",
       " 1.045,\n",
       " 0.197,\n",
       " 16.532,\n",
       " 0.013]"
      ]
     },
     "execution_count": 14,
     "metadata": {},
     "output_type": "execute_result"
    }
   ],
   "source": [
    "logic_power = []\n",
    "\n",
    "for tmod in top_modules:\n",
    "    if(impl_dict[tmod] == \"YES\"):\n",
    "        with open(\"Implementation_Reports/{}/power.txt\".format(tmod), \"r\") as f:\n",
    "            lines = f.read()\n",
    "            s_lines = lines.split(\"\\n\")\n",
    "            lp_info = []\n",
    "            line = None\n",
    "            for info in s_lines:\n",
    "                if \"Slice Logic\" in info:\n",
    "                    line = info\n",
    "                    lp_info.append(line)\n",
    "            if line is None:\n",
    "                logic_power.append(float(0))\n",
    "            else:\n",
    "                logic_power.append(float(lp_info[0].split('|')[2].strip()))\n",
    "\n",
    "            \n",
    "    else:\n",
    "        with open(\"Synthesized_Reports/{}/power.txt\".format(tmod), \"r\") as f:\n",
    "            lines = f.read()\n",
    "            s_lines = lines.split(\"\\n\")\n",
    "            lp_info = []\n",
    "            line = None\n",
    "            for info in s_lines:\n",
    "                if \"Slice Logic\" in info:\n",
    "                    line = info\n",
    "                    lp_info.append(line)\n",
    "            if line is None:\n",
    "                logic_power.append(float(0))\n",
    "            else:\n",
    "                logic_power.append(float(lp_info[0].split('|')[2].strip()))\n",
    "                \n",
    "logic_power"
   ]
  },
  {
   "cell_type": "code",
   "execution_count": 15,
   "id": "3df82a91-d970-4149-9974-5cafa053af4c",
   "metadata": {},
   "outputs": [
    {
     "data": {
      "text/plain": [
       "[0.485,\n",
       " 0.068,\n",
       " 0.073,\n",
       " 0.072,\n",
       " 0.071,\n",
       " 0.083,\n",
       " 0.088,\n",
       " 0.156,\n",
       " 0.485,\n",
       " 0.092,\n",
       " 0.485,\n",
       " 0.075,\n",
       " 0.485,\n",
       " 0.071]"
      ]
     },
     "execution_count": 15,
     "metadata": {},
     "output_type": "execute_result"
    }
   ],
   "source": [
    "static_power = []\n",
    "\n",
    "for tmod in top_modules:\n",
    "    if(impl_dict[tmod] == \"YES\"):\n",
    "        with open(\"Implementation_Reports/{}/power.txt\".format(tmod), \"r\") as f:\n",
    "            lines = f.read()\n",
    "            s_lines = lines.split(\"\\n\")\n",
    "            stp_info = []\n",
    "            line = None\n",
    "            for info in s_lines:\n",
    "                if \"Static Power\" in info:\n",
    "                    line = info\n",
    "                    stp_info.append(line)\n",
    "            if line is None:\n",
    "                static_power.append(float(0))\n",
    "            else:\n",
    "                static_power.append(float(stp_info[0].split('|')[2].strip()))\n",
    "\n",
    "            \n",
    "    else:\n",
    "        with open(\"Synthesized_Reports/{}/power.txt\".format(tmod), \"r\") as f:\n",
    "            lines = f.read()\n",
    "            s_lines = lines.split(\"\\n\")\n",
    "            stp_info = []\n",
    "            line = None\n",
    "            for info in s_lines:\n",
    "                if \"Static Power\" in info:\n",
    "                    line = info\n",
    "                    stp_info.append(line)\n",
    "            if line is None:\n",
    "                static_power.append(float(0))\n",
    "            else:\n",
    "                static_power.append(float(stp_info[0].split('|')[2].strip()))\n",
    "                \n",
    "static_power"
   ]
  },
  {
   "cell_type": "code",
   "execution_count": 16,
   "id": "c6a0644e-31f4-40e4-ad49-9ab9d9165e9c",
   "metadata": {},
   "outputs": [
    {
     "data": {
      "text/plain": [
       "[61.141,\n",
       " 0.0,\n",
       " 1.119,\n",
       " 0.417,\n",
       " 0.295,\n",
       " 3.709,\n",
       " 4.575,\n",
       " 10.197,\n",
       " 20.474,\n",
       " 5.284,\n",
       " 41.21,\n",
       " 1.447,\n",
       " 12.095,\n",
       " 0.337]"
      ]
     },
     "execution_count": 16,
     "metadata": {},
     "output_type": "execute_result"
    }
   ],
   "source": [
    "io_power = []\n",
    "\n",
    "for tmod in top_modules:\n",
    "    if(impl_dict[tmod] == \"YES\"):\n",
    "        with open(\"Implementation_Reports/{}/power.txt\".format(tmod), \"r\") as f:\n",
    "            lines = f.read()\n",
    "            s_lines = lines.split(\"\\n\")\n",
    "            iop_info = []\n",
    "            line = None\n",
    "            for info in s_lines:\n",
    "                if \"I/O\" in info:\n",
    "                    line = info\n",
    "                    iop_info.append(line)\n",
    "            if line is None:\n",
    "                io_power.append(float(0))\n",
    "            else:\n",
    "                io_power.append(float(iop_info[0].split('|')[2].strip()))\n",
    "            \n",
    "    else:\n",
    "        with open(\"Synthesized_Reports/{}/power.txt\".format(tmod), \"r\") as f:\n",
    "            lines = f.read()\n",
    "            s_lines = lines.split(\"\\n\")\n",
    "            iop_info = []\n",
    "            line = None\n",
    "            for info in s_lines:\n",
    "                if \"I/O\" in info:\n",
    "                    line = info\n",
    "                    iop_info.append(line)\n",
    "            if line is None:\n",
    "                io_power.append(float(0))\n",
    "            else:\n",
    "                io_power.append(float(iop_info[0].split('|')[2].strip()))\n",
    "                \n",
    "io_power"
   ]
  },
  {
   "cell_type": "code",
   "execution_count": 17,
   "id": "eb68f9b4-1c45-47f8-ba94-4daf00735f0e",
   "metadata": {},
   "outputs": [
    {
     "data": {
      "text/plain": [
       "[63.837,\n",
       " 0.068,\n",
       " 1.263,\n",
       " 0.716,\n",
       " 0.593,\n",
       " 4.012,\n",
       " 4.895,\n",
       " 11.046,\n",
       " 23.213,\n",
       " 5.603,\n",
       " 45.134,\n",
       " 1.873,\n",
       " 147.205,\n",
       " 0.461]"
      ]
     },
     "execution_count": 17,
     "metadata": {},
     "output_type": "execute_result"
    }
   ],
   "source": [
    "total_power = []\n",
    "\n",
    "for tmod in top_modules:\n",
    "    if(impl_dict[tmod] == \"YES\"):\n",
    "        with open(\"Implementation_Reports/{}/power.txt\".format(tmod), \"r\") as f:\n",
    "            lines = f.read()\n",
    "            s_lines = lines.split(\"\\n\")\n",
    "            tp_info = []\n",
    "            line = None\n",
    "            for info in s_lines:\n",
    "                if \"Total  \" in info:\n",
    "                    line = info\n",
    "                    tp_info.append(line)\n",
    "            if line is None:\n",
    "                total_power.append(float(0))\n",
    "            else:\n",
    "                total_power.append(float(tp_info[0].split('|')[2].strip()))\n",
    "\n",
    "            \n",
    "    else:\n",
    "        with open(\"Synthesized_Reports/{}/power.txt\".format(tmod), \"r\") as f:\n",
    "            lines = f.read()\n",
    "            s_lines = lines.split(\"\\n\")\n",
    "            tp_info = []\n",
    "            line = None\n",
    "            for info in s_lines:\n",
    "                if \"Total  \" in info:\n",
    "                    line = info\n",
    "                    tp_info.append(line)\n",
    "            if line is None:\n",
    "                total_power.append(float(0))\n",
    "            else:\n",
    "                total_power.append(float(tp_info[0].split('|')[2].strip()))\n",
    "                \n",
    "total_power"
   ]
  },
  {
   "cell_type": "code",
   "execution_count": 18,
   "id": "b2783aed-0362-4e70-ab79-43d9f14490a1",
   "metadata": {},
   "outputs": [
    {
     "data": {
      "text/plain": [
       "[5.839,\n",
       " 0.0,\n",
       " 7.894,\n",
       " 6.704,\n",
       " 6.034,\n",
       " 9.34,\n",
       " 9.882,\n",
       " 12.463,\n",
       " 18.806,\n",
       " 9.575,\n",
       " 12.929,\n",
       " 4.917,\n",
       " 28.24,\n",
       " 7.77]"
      ]
     },
     "execution_count": 18,
     "metadata": {},
     "output_type": "execute_result"
    }
   ],
   "source": [
    "datapath_delay = []\n",
    "\n",
    "for tmod in top_modules:\n",
    "    if(impl_dict[tmod] == \"YES\"):\n",
    "        with open(\"Implementation_Reports/{}/timing.txt\".format(tmod), \"r\") as f:\n",
    "            lines = f.read()\n",
    "            s_lines = lines.split(\"\\n\")\n",
    "            dpd_info = []\n",
    "            line = None\n",
    "            for info in s_lines:\n",
    "                if \"Data Path Delay\" in info:\n",
    "                    line = info\n",
    "                    dpd_info.append(line)\n",
    "            if line is None:\n",
    "                datapath_delay.append(float(0))\n",
    "            else:\n",
    "                datapath_delay.append(float(dpd_info[0].split()[3][:-2]))\n",
    "\n",
    "            \n",
    "    else:\n",
    "        with open(\"Synthesized_Reports/{}/timing.txt\".format(tmod), \"r\") as f:\n",
    "            lines = f.read()\n",
    "            s_lines = lines.split(\"\\n\")\n",
    "            dpd_info = []\n",
    "            line = None\n",
    "            for info in s_lines:\n",
    "                if \"Data Path Delay\" in info:\n",
    "                    line = info\n",
    "                    dpd_info.append(line)\n",
    "            if line is None:\n",
    "                datapath_delay.append(float(0))\n",
    "            else:\n",
    "                datapath_delay.append(float(dpd_info[0].split()[3][:-2]))\n",
    "\n",
    "datapath_delay"
   ]
  },
  {
   "cell_type": "code",
   "execution_count": 19,
   "id": "4b825c18-81f4-4320-bf0f-4be306ac6e35",
   "metadata": {},
   "outputs": [
    {
     "data": {
      "text/plain": [
       "[0, 0, 0, 0, 0, 0, 0, 0, 0, 0, 0, 0, 5139, 0]"
      ]
     },
     "execution_count": 19,
     "metadata": {},
     "output_type": "execute_result"
    }
   ],
   "source": [
    "f7_muxes = []\n",
    "\n",
    "for tmod in top_modules:\n",
    "    if(impl_dict[tmod] == \"YES\"):\n",
    "        with open(\"Implementation_Reports/{}/utilization.txt\".format(tmod), \"r\") as f:\n",
    "            lines = f.read()\n",
    "            s_lines = lines.split(\"\\n\")\n",
    "            f7m_info = []\n",
    "            line = None\n",
    "            for info in s_lines:\n",
    "                if \"F7 Muxes\" in info:\n",
    "                    line = info\n",
    "                    f7m_info.append(line)\n",
    "            if line is None:\n",
    "                f7_muxes.append(int(0))\n",
    "            else:\n",
    "                f7_muxes.append(int(f7m_info[0].split(\"|\")[2].strip()))\n",
    "\n",
    "            \n",
    "    else:\n",
    "        with open(\"Synthesized_Reports/{}/utilization.txt\".format(tmod), \"r\") as f:\n",
    "            lines = f.read()\n",
    "            s_lines = lines.split(\"\\n\")\n",
    "            f7m_info = []\n",
    "            line = None\n",
    "            for info in s_lines:\n",
    "                if \"F7 Muxes\" in info:\n",
    "                    line = info\n",
    "                    f7m_info.append(line)\n",
    "            if line is None:\n",
    "                f7_muxes.append(int(0))\n",
    "            else:\n",
    "                f7_muxes.append(int(f7m_info[0].split(\"|\")[2].strip()))\n",
    "\n",
    "f7_muxes"
   ]
  },
  {
   "cell_type": "code",
   "execution_count": 20,
   "id": "00443c4b-4c2f-48ec-8a85-b2837e094e0b",
   "metadata": {},
   "outputs": [
    {
     "data": {
      "text/plain": [
       "{'top_Memory_RW': 0,\n",
       " 'top_fifo': 0,\n",
       " 'top_PE_struct': 0,\n",
       " 'top_mealy_0011': 0,\n",
       " 'top_moore_0011': 0,\n",
       " 'top_multiplier': 0,\n",
       " 'top_CLA8': 0,\n",
       " 'top_CLA16': 0,\n",
       " 'top_CLA32': 0,\n",
       " 'top_RCA': 0,\n",
       " 'top_CLA64': 0,\n",
       " 'top_trafficsignal': 0,\n",
       " 'top_pipelined_conv': 0,\n",
       " 'top_PE_behav': 0}"
      ]
     },
     "execution_count": 20,
     "metadata": {},
     "output_type": "execute_result"
    }
   ],
   "source": [
    "lut_as_mem = []\n",
    "lut_as_mem_dict = {}\n",
    "\n",
    "for tmod in top_modules:\n",
    "    if(impl_dict[tmod] == \"YES\"):\n",
    "        with open(\"Implementation_Reports/{}/utilization.txt\".format(tmod), \"r\") as f:\n",
    "            lines = f.read()\n",
    "            s_lines = lines.split(\"\\n\")\n",
    "            lam_info = []\n",
    "            line = None\n",
    "            for info in s_lines:\n",
    "                if \"LUT as Memory\" in info:\n",
    "                    line = info\n",
    "                    lam_info.append(line)\n",
    "            if line is None:\n",
    "                lut_as_mem.append(int(0))\n",
    "                lut_as_mem_dict[tmod] = int(0)\n",
    "            else:\n",
    "                lut_as_mem.append(int(lam_info[0].split(\"|\")[2].strip()))\n",
    "                lut_as_mem_dict[tmod] = int(lam_info[0].split(\"|\")[2].strip())\n",
    "\n",
    "            \n",
    "    else:\n",
    "        with open(\"Synthesized_Reports/{}/utilization.txt\".format(tmod), \"r\") as f:\n",
    "            lines = f.read()\n",
    "            s_lines = lines.split(\"\\n\")\n",
    "            lam_info = []\n",
    "            line = None\n",
    "            for info in s_lines:\n",
    "                if \"LUT as Memory\" in info:\n",
    "                    line = info\n",
    "                    lam_info.append(line)\n",
    "            if line is None:\n",
    "                lut_as_mem.append(int(0))\n",
    "                lut_as_mem_dict[tmod] = int(0)\n",
    "            else:\n",
    "                lut_as_mem.append(int(lam_info[0].split(\"|\")[2].strip()))\n",
    "                lut_as_mem_dict[tmod] = int(lam_info[0].split(\"|\")[2].strip())\n",
    "\n",
    "lut_as_mem_dict"
   ]
  },
  {
   "cell_type": "code",
   "execution_count": 21,
   "id": "d923bf85-4a69-4d0f-a685-e2c6ab5c770c",
   "metadata": {},
   "outputs": [
    {
     "data": {
      "text/plain": [
       "[0, 0, 5, 18, 18, 15, 13, 35, 96, 8, 233, 32, 13867, 4]"
      ]
     },
     "execution_count": 21,
     "metadata": {},
     "output_type": "execute_result"
    }
   ],
   "source": [
    "lut_as_logic = []\n",
    "\n",
    "for tmod in top_modules:\n",
    "    if(impl_dict[tmod] == \"YES\"):\n",
    "        with open(\"Implementation_Reports/{}/utilization.txt\".format(tmod), \"r\") as f:\n",
    "            lines = f.read()\n",
    "            s_lines = lines.split(\"\\n\")\n",
    "            lal_info = []\n",
    "            line = None\n",
    "            for info in s_lines:\n",
    "                if \"LUT as Logic\" in info:\n",
    "                    line = info\n",
    "                    lal_info.append(line)\n",
    "            if line is None:\n",
    "                lut_as_logic.append(int(0))\n",
    "            else:\n",
    "                lut_as_logic.append(int(lal_info[0].split(\"|\")[2].strip()))\n",
    "\n",
    "            \n",
    "    else:\n",
    "        with open(\"Synthesized_Reports/{}/utilization.txt\".format(tmod), \"r\") as f:\n",
    "            lines = f.read()\n",
    "            s_lines = lines.split(\"\\n\")\n",
    "            lal_info = []\n",
    "            line = None\n",
    "            for info in s_lines:\n",
    "                if \"LUT as Logic\" in info:\n",
    "                    line = info\n",
    "                    lal_info.append(line)\n",
    "            if line is None:\n",
    "                lut_as_logic.append(int(0))\n",
    "            else:\n",
    "                lut_as_logic.append(int(lal_info[0].split(\"|\")[2].strip()))\n",
    "\n",
    "lut_as_logic"
   ]
  },
  {
   "cell_type": "code",
   "execution_count": 22,
   "id": "bfb57e35-e7ea-40ee-a046-aa5e80e07a64",
   "metadata": {},
   "outputs": [
    {
     "data": {
      "text/plain": [
       "{'top_Memory_RW': 0,\n",
       " 'top_fifo': 0,\n",
       " 'top_PE_struct': 5,\n",
       " 'top_mealy_0011': 18,\n",
       " 'top_moore_0011': 18,\n",
       " 'top_multiplier': 15,\n",
       " 'top_CLA8': 13,\n",
       " 'top_CLA16': 35,\n",
       " 'top_CLA32': 96,\n",
       " 'top_RCA': 8,\n",
       " 'top_CLA64': 233,\n",
       " 'top_trafficsignal': 32,\n",
       " 'top_pipelined_conv': 13867,\n",
       " 'top_PE_behav': 4}"
      ]
     },
     "execution_count": 22,
     "metadata": {},
     "output_type": "execute_result"
    }
   ],
   "source": [
    "slice_luts = []\n",
    "slice_luts_dict = {}\n",
    "\n",
    "for tmod in top_modules:\n",
    "    if(impl_dict[tmod] == \"YES\"):\n",
    "        with open(\"Implementation_Reports/{}/utilization.txt\".format(tmod), \"r\") as f:\n",
    "            lines = f.read()\n",
    "            s_lines = lines.split(\"\\n\")\n",
    "            sl_info = []\n",
    "            line = None\n",
    "            for info in s_lines:\n",
    "                if \"Slice LUTs\" in info:\n",
    "                    line = info\n",
    "                    sl_info.append(line)\n",
    "            if line is None:\n",
    "                slice_luts.append(int(0))\n",
    "                slice_luts_dict[tmod] = int(0)\n",
    "            else:\n",
    "                slice_luts.append(int(sl_info[0].split(\"|\")[2].strip()))\n",
    "                slice_luts_dict[tmod] = int(sl_info[0].split(\"|\")[2].strip())\n",
    "            \n",
    "\n",
    "            \n",
    "    else:\n",
    "        with open(\"Synthesized_Reports/{}/utilization.txt\".format(tmod), \"r\") as f:\n",
    "            lines = f.read()\n",
    "            s_lines = lines.split(\"\\n\")\n",
    "            sl_info = []\n",
    "            line = None\n",
    "            for info in s_lines:\n",
    "                if \"Slice LUTs\" in info:\n",
    "                    line = info\n",
    "                    sl_info.append(line)\n",
    "            if line is None:\n",
    "                slice_luts.append(int(0))\n",
    "                slice_luts_dict[tmod] = int(0)\n",
    "            else:\n",
    "                slice_luts.append(int(sl_info[0].split(\"|\")[2].strip()))\n",
    "                slice_luts_dict[tmod] = int(sl_info[0].split(\"|\")[2].strip())\n",
    "\n",
    "slice_luts\n",
    "slice_luts_dict"
   ]
  },
  {
   "cell_type": "code",
   "execution_count": 23,
   "id": "a2884ff1-0701-48c3-8474-b684db02b799",
   "metadata": {},
   "outputs": [
    {
     "data": {
      "text/plain": [
       "[0, 0, 0, 2, 2, 0, 0, 0, 0, 0, 0, 1, 139, 1]"
      ]
     },
     "execution_count": 23,
     "metadata": {},
     "output_type": "execute_result"
    }
   ],
   "source": [
    "lut1 = []\n",
    "total_lut = {}\n",
    "\n",
    "for tmod in top_modules:\n",
    "    if(impl_dict[tmod] == \"YES\"):\n",
    "        with open(\"Implementation_Reports/{}/utilization.txt\".format(tmod), \"r\") as f:\n",
    "            lines = f.read()\n",
    "            s_lines = lines.split(\"\\n\")\n",
    "            l1_info = []\n",
    "            line = None\n",
    "            for info in s_lines:\n",
    "                if \"LUT1\" in info:\n",
    "                    line = info\n",
    "                    l1_info.append(line)\n",
    "            if line is None:\n",
    "                lut1.append(int(0))\n",
    "                total_lut[tmod] = int(0)\n",
    "            else:\n",
    "                lut1.append(int(l1_info[0].split(\"|\")[2].strip()))\n",
    "                total_lut[tmod] = int(l1_info[0].split(\"|\")[2].strip())\n",
    "\n",
    "            \n",
    "    else:\n",
    "        with open(\"Synthesized_Reports/{}/utilization.txt\".format(tmod), \"r\") as f:\n",
    "            lines = f.read()\n",
    "            s_lines = lines.split(\"\\n\")\n",
    "            l1_info = []\n",
    "            line = None\n",
    "            for info in s_lines:\n",
    "                if \"LUT1\" in info:\n",
    "                    line = info\n",
    "                    l1_info.append(line)\n",
    "            if line is None:\n",
    "                lut1.append(int(0))\n",
    "                total_lut[tmod] = int(0)\n",
    "            else:\n",
    "                lut1.append(int(l1_info[0].split(\"|\")[2].strip()))\n",
    "                total_lut[tmod] = int(l1_info[0].split(\"|\")[2].strip())\n",
    "\n",
    "lut1"
   ]
  },
  {
   "cell_type": "code",
   "execution_count": 24,
   "id": "7bcd49b6-a58d-49c4-9da4-c8efd7e83188",
   "metadata": {},
   "outputs": [
    {
     "data": {
      "text/plain": [
       "[0, 0, 1, 0, 0, 3, 1, 6, 26, 0, 48, 4, 307, 0]"
      ]
     },
     "execution_count": 24,
     "metadata": {},
     "output_type": "execute_result"
    }
   ],
   "source": [
    "lut2 = []\n",
    "\n",
    "for tmod in top_modules:\n",
    "    if(impl_dict[tmod] == \"YES\"):\n",
    "        with open(\"Implementation_Reports/{}/utilization.txt\".format(tmod), \"r\") as f:\n",
    "            lines = f.read()\n",
    "            s_lines = lines.split(\"\\n\")\n",
    "            l2_info = []\n",
    "            line = None\n",
    "            for info in s_lines:\n",
    "                if \"LUT2\" in info:\n",
    "                    line = info\n",
    "                    l2_info.append(line)\n",
    "            if line is None:\n",
    "                lut2.append(int(0))\n",
    "                total_lut[tmod] = total_lut[tmod] + int(0)\n",
    "            else:\n",
    "                lut2.append(int(l2_info[0].split(\"|\")[2].strip()))\n",
    "                total_lut[tmod] = total_lut[tmod] + int(l2_info[0].split(\"|\")[2].strip())\n",
    "\n",
    "            \n",
    "    else:\n",
    "        with open(\"Synthesized_Reports/{}/utilization.txt\".format(tmod), \"r\") as f:\n",
    "            lines = f.read()\n",
    "            s_lines = lines.split(\"\\n\")\n",
    "            l2_info = []\n",
    "            line = None\n",
    "            for info in s_lines:\n",
    "                if \"LUT2\" in info:\n",
    "                    line = info\n",
    "                    l2_info.append(line)\n",
    "            if line is None:\n",
    "                lut2.append(int(0))\n",
    "                total_lut[tmod] = total_lut[tmod] + int(0)\n",
    "            else:\n",
    "                lut2.append(int(l2_info[0].split(\"|\")[2].strip()))\n",
    "                total_lut[tmod] = total_lut[tmod] + int(l2_info[0].split(\"|\")[2].strip())\n",
    "\n",
    "lut2"
   ]
  },
  {
   "cell_type": "code",
   "execution_count": 25,
   "id": "ae7c742d-32a0-48d0-8f90-d6df0254c96e",
   "metadata": {},
   "outputs": [
    {
     "data": {
      "text/plain": [
       "[0, 0, 0, 4, 2, 1, 2, 4, 9, 4, 14, 1, 1313, 0]"
      ]
     },
     "execution_count": 25,
     "metadata": {},
     "output_type": "execute_result"
    }
   ],
   "source": [
    "lut3 = []\n",
    "\n",
    "for tmod in top_modules:\n",
    "    if(impl_dict[tmod] == \"YES\"):\n",
    "        with open(\"Implementation_Reports/{}/utilization.txt\".format(tmod), \"r\") as f:\n",
    "            lines = f.read()\n",
    "            s_lines = lines.split(\"\\n\")\n",
    "            l3_info = []\n",
    "            line = None\n",
    "            for info in s_lines:\n",
    "                if \"LUT3\" in info:\n",
    "                    line = info\n",
    "                    l3_info.append(line)\n",
    "            if line is None:\n",
    "                lut3.append(int(0))\n",
    "                total_lut[tmod] = total_lut[tmod] + int(0)\n",
    "            else:\n",
    "                lut3.append(int(l3_info[0].split(\"|\")[2].strip()))\n",
    "                total_lut[tmod] = total_lut[tmod] + int(l3_info[0].split(\"|\")[2].strip())\n",
    "\n",
    "            \n",
    "    else:\n",
    "        with open(\"Synthesized_Reports/{}/utilization.txt\".format(tmod), \"r\") as f:\n",
    "            lines = f.read()\n",
    "            s_lines = lines.split(\"\\n\")\n",
    "            l3_info = []\n",
    "            line = None\n",
    "            for info in s_lines:\n",
    "                if \"LUT3\" in info:\n",
    "                    line = info\n",
    "                    l3_info.append(line)\n",
    "            if line is None:\n",
    "                lut3.append(int(0))\n",
    "                total_lut[tmod] = total_lut[tmod] + int(0)\n",
    "            else:\n",
    "                lut3.append(int(l3_info[0].split(\"|\")[2].strip()))\n",
    "                total_lut[tmod] = total_lut[tmod] + int(l3_info[0].split(\"|\")[2].strip())\n",
    "\n",
    "lut3"
   ]
  },
  {
   "cell_type": "code",
   "execution_count": 26,
   "id": "088c59b4-9e8c-4d49-97eb-bf3707b1e715",
   "metadata": {},
   "outputs": [
    {
     "data": {
      "text/plain": [
       "[0, 0, 1, 4, 7, 4, 3, 8, 14, 0, 25, 10, 98, 2]"
      ]
     },
     "execution_count": 26,
     "metadata": {},
     "output_type": "execute_result"
    }
   ],
   "source": [
    "lut4 = []\n",
    "\n",
    "for tmod in top_modules:\n",
    "    if(impl_dict[tmod] == \"YES\"):\n",
    "        with open(\"Implementation_Reports/{}/utilization.txt\".format(tmod), \"r\") as f:\n",
    "            lines = f.read()\n",
    "            s_lines = lines.split(\"\\n\")\n",
    "            l4_info = []\n",
    "            line = None\n",
    "            for info in s_lines:\n",
    "                if \"LUT4\" in info:\n",
    "                    line = info\n",
    "                    l4_info.append(line)\n",
    "            if line is None:\n",
    "                lut4.append(int(0))\n",
    "                total_lut[tmod] = total_lut[tmod] + int(0)\n",
    "            else:\n",
    "                lut4.append(int(l4_info[0].split(\"|\")[2].strip()))\n",
    "                total_lut[tmod] = total_lut[tmod] + int(l4_info[0].split(\"|\")[2].strip())\n",
    "\n",
    "            \n",
    "    else:\n",
    "        with open(\"Synthesized_Reports/{}/utilization.txt\".format(tmod), \"r\") as f:\n",
    "            lines = f.read()\n",
    "            s_lines = lines.split(\"\\n\")\n",
    "            l4_info = []\n",
    "            line = None\n",
    "            for info in s_lines:\n",
    "                if \"LUT4\" in info:\n",
    "                    line = info\n",
    "                    l4_info.append(line)\n",
    "            if line is None:\n",
    "                lut4.append(int(0))\n",
    "                total_lut[tmod] = total_lut[tmod] + int(0)\n",
    "            else:\n",
    "                lut4.append(int(l4_info[0].split(\"|\")[2].strip()))\n",
    "                total_lut[tmod] = total_lut[tmod] + int(l4_info[0].split(\"|\")[2].strip())\n",
    "\n",
    "lut4"
   ]
  },
  {
   "cell_type": "code",
   "execution_count": 27,
   "id": "d42d47d6-12f4-49fd-99e9-9935e7356107",
   "metadata": {},
   "outputs": [
    {
     "data": {
      "text/plain": [
       "[0, 0, 2, 5, 5, 2, 3, 5, 15, 8, 44, 14, 344, 1]"
      ]
     },
     "execution_count": 27,
     "metadata": {},
     "output_type": "execute_result"
    }
   ],
   "source": [
    "lut5 = []\n",
    "\n",
    "for tmod in top_modules:\n",
    "    if(impl_dict[tmod] == \"YES\"):\n",
    "        with open(\"Implementation_Reports/{}/utilization.txt\".format(tmod), \"r\") as f:\n",
    "            lines = f.read()\n",
    "            s_lines = lines.split(\"\\n\")\n",
    "            l5_info = []\n",
    "            line = None\n",
    "            for info in s_lines:\n",
    "                if \"LUT5\" in info:\n",
    "                    line = info\n",
    "                    l5_info.append(line)\n",
    "            if line is None:\n",
    "                lut5.append(int(0))\n",
    "                total_lut[tmod] = total_lut[tmod] + int(0)\n",
    "            else:\n",
    "                lut5.append(int(l5_info[0].split(\"|\")[2].strip()))\n",
    "                total_lut[tmod] = total_lut[tmod] + int(l5_info[0].split(\"|\")[2].strip())\n",
    "\n",
    "            \n",
    "    else:\n",
    "        with open(\"Synthesized_Reports/{}/utilization.txt\".format(tmod), \"r\") as f:\n",
    "            lines = f.read()\n",
    "            s_lines = lines.split(\"\\n\")\n",
    "            l5_info = []\n",
    "            line = None\n",
    "            for info in s_lines:\n",
    "                if \"LUT5\" in info:\n",
    "                    line = info\n",
    "                    l5_info.append(line)\n",
    "            if line is None:\n",
    "                lut5.append(int(0))\n",
    "                total_lut[tmod] = total_lut[tmod] + int(0)\n",
    "            else:\n",
    "                lut5.append(int(l5_info[0].split(\"|\")[2].strip()))\n",
    "                total_lut[tmod] = total_lut[tmod] + int(l5_info[0].split(\"|\")[2].strip())\n",
    "\n",
    "lut5"
   ]
  },
  {
   "cell_type": "code",
   "execution_count": 28,
   "id": "84f4bd83-9578-494c-beaf-9df07976c7a6",
   "metadata": {},
   "outputs": [
    {
     "data": {
      "text/plain": [
       "[0, 0, 3, 4, 4, 9, 6, 22, 59, 0, 155, 4, 12009, 1]"
      ]
     },
     "execution_count": 28,
     "metadata": {},
     "output_type": "execute_result"
    }
   ],
   "source": [
    "lut6 = []\n",
    "\n",
    "for tmod in top_modules:\n",
    "    if(impl_dict[tmod] == \"YES\"):\n",
    "        with open(\"Implementation_Reports/{}/utilization.txt\".format(tmod), \"r\") as f:\n",
    "            lines = f.read()\n",
    "            s_lines = lines.split(\"\\n\")\n",
    "            l6_info = []\n",
    "            line = None\n",
    "            for info in s_lines:\n",
    "                if \"LUT6\" in info:\n",
    "                    line = info\n",
    "                    l6_info.append(line)\n",
    "            if line is None:\n",
    "                lut6.append(int(0))\n",
    "                total_lut[tmod] = total_lut[tmod] + int(0)\n",
    "            else:\n",
    "                lut6.append(int(l6_info[0].split(\"|\")[2].strip()))\n",
    "                total_lut[tmod] = total_lut[tmod] + int(l6_info[0].split(\"|\")[2].strip())\n",
    "\n",
    "            \n",
    "    else:\n",
    "        with open(\"Synthesized_Reports/{}/utilization.txt\".format(tmod), \"r\") as f:\n",
    "            lines = f.read()\n",
    "            s_lines = lines.split(\"\\n\")\n",
    "            l6_info = []\n",
    "            line = None\n",
    "            for info in s_lines:\n",
    "                if \"LUT6\" in info:\n",
    "                    line = info\n",
    "                    l6_info.append(line)\n",
    "            if line is None:\n",
    "                lut6.append(int(0))\n",
    "                total_lut[tmod] = total_lut[tmod] + int(0)\n",
    "            else:\n",
    "                lut6.append(int(l6_info[0].split(\"|\")[2].strip()))\n",
    "                total_lut[tmod] = total_lut[tmod] + int(l6_info[0].split(\"|\")[2].strip())\n",
    "\n",
    "lut6"
   ]
  },
  {
   "cell_type": "code",
   "execution_count": 29,
   "id": "8a9841ba-4615-4442-9e6d-fb2fcdc646c8",
   "metadata": {},
   "outputs": [
    {
     "data": {
      "text/plain": [
       "{'top_Memory_RW': 0,\n",
       " 'top_fifo': 0,\n",
       " 'top_PE_struct': 7,\n",
       " 'top_mealy_0011': 19,\n",
       " 'top_moore_0011': 20,\n",
       " 'top_multiplier': 19,\n",
       " 'top_CLA8': 15,\n",
       " 'top_CLA16': 45,\n",
       " 'top_CLA32': 123,\n",
       " 'top_RCA': 12,\n",
       " 'top_CLA64': 286,\n",
       " 'top_trafficsignal': 34,\n",
       " 'top_pipelined_conv': 14210,\n",
       " 'top_PE_behav': 5}"
      ]
     },
     "execution_count": 29,
     "metadata": {},
     "output_type": "execute_result"
    }
   ],
   "source": [
    "lut7 = []\n",
    "\n",
    "for tmod in top_modules:\n",
    "    if(impl_dict[tmod] == \"YES\"):\n",
    "        with open(\"Implementation_Reports/{}/utilization.txt\".format(tmod), \"r\") as f:\n",
    "            lines = f.read()\n",
    "            s_lines = lines.split(\"\\n\")\n",
    "            l7_info = []\n",
    "            line = None\n",
    "            for info in s_lines:\n",
    "                if \"LUT7\" in info:\n",
    "                    line = info\n",
    "                    l7_info.append(line)\n",
    "            if line is None:\n",
    "                lut7.append(int(0))\n",
    "                total_lut[tmod] = total_lut[tmod] + int(0)\n",
    "            else:\n",
    "                lut7.append(int(l7_info[0].split(\"|\")[2].strip()))\n",
    "                total_lut[tmod] = total_lut[tmod] + int(l7_info[0].split(\"|\")[2].strip())\n",
    "\n",
    "            \n",
    "    else:\n",
    "        with open(\"Synthesized_Reports/{}/utilization.txt\".format(tmod), \"r\") as f:\n",
    "            lines = f.read()\n",
    "            s_lines = lines.split(\"\\n\")\n",
    "            l7_info = []\n",
    "            line = None\n",
    "            for info in s_lines:\n",
    "                if \"LUT7\" in info:\n",
    "                    line = info\n",
    "                    l7_info.append(line)\n",
    "            if line is None:\n",
    "                lut7.append(int(0))\n",
    "                total_lut[tmod] = total_lut[tmod] + int(0)\n",
    "            else:\n",
    "                lut7.append(int(l7_info[0].split(\"|\")[2].strip()))\n",
    "                total_lut[tmod] = total_lut[tmod] + int(l7_info[0].split(\"|\")[2].strip())\n",
    "\n",
    "total_lut"
   ]
  },
  {
   "cell_type": "code",
   "execution_count": 30,
   "id": "7f7effcb-6e25-4ee3-8f17-30ab709b5ad0",
   "metadata": {},
   "outputs": [
    {
     "data": {
      "text/plain": [
       "{'top_Memory_RW': 0,\n",
       " 'top_fifo': 0,\n",
       " 'top_PE_struct': 0,\n",
       " 'top_mealy_0011': 0,\n",
       " 'top_moore_0011': 0,\n",
       " 'top_multiplier': 0,\n",
       " 'top_CLA8': 0,\n",
       " 'top_CLA16': 0,\n",
       " 'top_CLA32': 0,\n",
       " 'top_RCA': 0,\n",
       " 'top_CLA64': 0,\n",
       " 'top_trafficsignal': 0,\n",
       " 'top_pipelined_conv': 0,\n",
       " 'top_PE_behav': 0}"
      ]
     },
     "execution_count": 30,
     "metadata": {},
     "output_type": "execute_result"
    }
   ],
   "source": [
    "lut_as_mem2 = []\n",
    "lut_as_mem2_dict = {}\n",
    "\n",
    "lut_as_mem2 = lut_as_mem.copy()\n",
    "lut_as_mem2_dict = lut_as_mem_dict.copy()\n",
    "\n",
    "lut_as_mem2_dict"
   ]
  },
  {
   "cell_type": "code",
   "execution_count": 31,
   "id": "2b1ee17e-f4f1-42c6-9683-fd8e67c75079",
   "metadata": {},
   "outputs": [
    {
     "data": {
      "text/plain": [
       "[0, 0, 7, 19, 20, 19, 15, 45, 123, 12, 286, 34, 14210, 5]"
      ]
     },
     "execution_count": 31,
     "metadata": {},
     "output_type": "execute_result"
    }
   ],
   "source": [
    "lut_as_logic2 = []\n",
    "\n",
    "for tmod in top_modules:\n",
    "    lut_as_logic2.append(total_lut[tmod])\n",
    "\n",
    "lut_as_logic2"
   ]
  },
  {
   "cell_type": "code",
   "execution_count": 32,
   "id": "0ac9b2ba-cb1c-4474-9dfa-08b2c606d4d3",
   "metadata": {},
   "outputs": [
    {
     "data": {
      "text/plain": [
       "[0, 0, 7, 19, 20, 19, 15, 45, 123, 12, 286, 34, 14210, 5]"
      ]
     },
     "execution_count": 32,
     "metadata": {},
     "output_type": "execute_result"
    }
   ],
   "source": [
    "slice_luts2 = []\n",
    "\n",
    "for tmod in top_modules:\n",
    "    slice_luts2.append(lut_as_mem2_dict[tmod] + total_lut[tmod])\n",
    "\n",
    "slice_luts2"
   ]
  },
  {
   "cell_type": "code",
   "execution_count": 33,
   "id": "06d4b100-8269-4ebc-b751-bf9eed489e9a",
   "metadata": {},
   "outputs": [
    {
     "data": {
      "text/plain": [
       "[0, 0, 2, 1, 2, 4, 2, 10, 27, 4, 53, 2, 343, 1]"
      ]
     },
     "execution_count": 33,
     "metadata": {},
     "output_type": "execute_result"
    }
   ],
   "source": [
    "luts_dif = []\n",
    "\n",
    "for tmod in top_modules:\n",
    "    luts_dif.append(lut_as_mem2_dict[tmod] + total_lut[tmod] - slice_luts_dict[tmod])\n",
    "\n",
    "luts_dif"
   ]
  },
  {
   "cell_type": "markdown",
   "id": "35781f67-585f-48a1-a439-6adcea3da6c6",
   "metadata": {},
   "source": [
    "# Creating an array containing the respective column results"
   ]
  },
  {
   "cell_type": "code",
   "execution_count": 34,
   "id": "9b22895b-74f8-4fd8-9be1-9850cea3d748",
   "metadata": {},
   "outputs": [
    {
     "data": {
      "text/plain": [
       "array([['top_Memory_RW', 'YES', 'NO', '1.889', '0.006', '0.485',\n",
       "        '61.141', '63.837', '5.839', '0', '0', '0', '0', '0', '0', '0',\n",
       "        '0', '0', '0', '0', '0', '0', '0', '0'],\n",
       "       ['top_fifo', 'YES', 'YES', '0.0', '0.0', '0.068', '0.0', '0.068',\n",
       "        '0.0', '0', '0', '0', '0', '0', '0', '0', '0', '0', '0', '0',\n",
       "        '0', '0', '0', '0'],\n",
       "       ['top_PE_struct', 'YES', 'YES', '0.049', '0.021', '0.073',\n",
       "        '1.119', '1.263', '7.894', '0', '0', '5', '5', '0', '1', '0',\n",
       "        '1', '2', '3', '0', '0', '7', '7', '2'],\n",
       "       ['top_mealy_0011', 'YES', 'YES', '0.13', '0.097', '0.072',\n",
       "        '0.417', '0.716', '6.704', '0', '0', '18', '18', '2', '0', '4',\n",
       "        '4', '5', '4', '0', '0', '19', '19', '1'],\n",
       "       ['top_moore_0011', 'YES', 'YES', '0.129', '0.098', '0.071',\n",
       "        '0.295', '0.593', '6.034', '0', '0', '18', '18', '2', '0', '2',\n",
       "        '7', '5', '4', '0', '0', '20', '20', '2'],\n",
       "       ['top_multiplier', 'YES', 'YES', '0.14', '0.08', '0.083', '3.709',\n",
       "        '4.012', '9.34', '0', '0', '15', '15', '0', '3', '1', '4', '2',\n",
       "        '9', '0', '0', '19', '19', '4'],\n",
       "       ['top_CLA8', 'YES', 'YES', '0.167', '0.065', '0.088', '4.575',\n",
       "        '4.895', '9.882', '0', '0', '13', '13', '0', '1', '2', '3', '3',\n",
       "        '6', '0', '0', '15', '15', '2'],\n",
       "       ['top_CLA16', 'YES', 'YES', '0.5', '0.194', '0.156', '10.197',\n",
       "        '11.046', '12.463', '0', '0', '35', '35', '0', '6', '4', '8',\n",
       "        '5', '22', '0', '0', '45', '45', '10'],\n",
       "       ['top_CLA32', 'YES', 'YES', '1.749', '0.505', '0.485', '20.474',\n",
       "        '23.213', '18.806', '0', '0', '96', '96', '0', '26', '9', '14',\n",
       "        '15', '59', '0', '0', '123', '123', '27'],\n",
       "       ['top_RCA', 'YES', 'YES', '0.174', '0.052', '0.092', '5.284',\n",
       "        '5.603', '9.575', '0', '0', '8', '8', '0', '0', '4', '0', '8',\n",
       "        '0', '0', '0', '12', '12', '4'],\n",
       "       ['top_CLA64', 'YES', 'NO', '2.395', '1.045', '0.485', '41.21',\n",
       "        '45.134', '12.929', '0', '0', '233', '233', '0', '48', '14',\n",
       "        '25', '44', '155', '0', '0', '286', '286', '53'],\n",
       "       ['top_trafficsignal', 'YES', 'YES', '0.154', '0.197', '0.075',\n",
       "        '1.447', '1.873', '4.917', '0', '0', '32', '32', '1', '4', '1',\n",
       "        '10', '14', '4', '0', '0', '34', '34', '2'],\n",
       "       ['top_pipelined_conv', 'YES', 'YES', '118.092', '16.532', '0.485',\n",
       "        '12.095', '147.205', '28.24', '5139', '0', '13867', '13867',\n",
       "        '139', '307', '1313', '98', '344', '12009', '0', '0', '14210',\n",
       "        '14210', '343'],\n",
       "       ['top_PE_behav', 'YES', 'YES', '0.041', '0.013', '0.071', '0.337',\n",
       "        '0.461', '7.77', '0', '0', '4', '4', '1', '0', '0', '2', '1',\n",
       "        '1', '0', '0', '5', '5', '1']], dtype='<U18')"
      ]
     },
     "execution_count": 34,
     "metadata": {},
     "output_type": "execute_result"
    }
   ],
   "source": [
    "result = [top_modules, is_synth, is_impl, signal_power, logic_power, static_power, io_power, total_power, datapath_delay, f7_muxes, lut_as_mem, lut_as_logic, slice_luts, lut1, lut2, lut3, lut4, lut5, lut6, lut7, lut_as_mem2, lut_as_logic2, slice_luts2, luts_dif]\n",
    "resultT = np.array(result).T\n",
    "resultT"
   ]
  },
  {
   "cell_type": "markdown",
   "id": "c57942ce-995a-4cef-92f0-7160ba2e3669",
   "metadata": {},
   "source": [
    "# Creating a tabulated dataframe object using pandas"
   ]
  },
  {
   "cell_type": "code",
   "execution_count": 37,
   "id": "a4ed7638-584b-4a32-808a-7c7ede105b4e",
   "metadata": {},
   "outputs": [
    {
     "data": {
      "text/html": [
       "<div>\n",
       "<style scoped>\n",
       "    .dataframe tbody tr th:only-of-type {\n",
       "        vertical-align: middle;\n",
       "    }\n",
       "\n",
       "    .dataframe tbody tr th {\n",
       "        vertical-align: top;\n",
       "    }\n",
       "\n",
       "    .dataframe thead th {\n",
       "        text-align: right;\n",
       "    }\n",
       "</style>\n",
       "<table border=\"1\" class=\"dataframe\">\n",
       "  <thead>\n",
       "    <tr style=\"text-align: right;\">\n",
       "      <th></th>\n",
       "      <th>File Name</th>\n",
       "      <th>Is_Synthesisable</th>\n",
       "      <th>Is_Implementable</th>\n",
       "      <th>Signal Power(w)</th>\n",
       "      <th>Logic Power(w)</th>\n",
       "      <th>Static Power(w)</th>\n",
       "      <th>I/O Power(w)</th>\n",
       "      <th>Total Power(w)</th>\n",
       "      <th>DataPath Delay(ns)</th>\n",
       "      <th>F7_Muxes</th>\n",
       "      <th>...</th>\n",
       "      <th>LUT2</th>\n",
       "      <th>LUT3</th>\n",
       "      <th>LUT4</th>\n",
       "      <th>LUT5</th>\n",
       "      <th>LUT6</th>\n",
       "      <th>LUT7</th>\n",
       "      <th>LUT_as_Memory2</th>\n",
       "      <th>LUT_as_Logic2</th>\n",
       "      <th>Slice_LUTs2</th>\n",
       "      <th>LUTs_difference</th>\n",
       "    </tr>\n",
       "  </thead>\n",
       "  <tbody>\n",
       "    <tr>\n",
       "      <th>0</th>\n",
       "      <td>top_Memory_RW</td>\n",
       "      <td>YES</td>\n",
       "      <td>NO</td>\n",
       "      <td>1.889</td>\n",
       "      <td>0.006</td>\n",
       "      <td>0.485</td>\n",
       "      <td>61.141</td>\n",
       "      <td>63.837</td>\n",
       "      <td>5.839</td>\n",
       "      <td>0</td>\n",
       "      <td>...</td>\n",
       "      <td>0</td>\n",
       "      <td>0</td>\n",
       "      <td>0</td>\n",
       "      <td>0</td>\n",
       "      <td>0</td>\n",
       "      <td>0</td>\n",
       "      <td>0</td>\n",
       "      <td>0</td>\n",
       "      <td>0</td>\n",
       "      <td>0</td>\n",
       "    </tr>\n",
       "    <tr>\n",
       "      <th>1</th>\n",
       "      <td>top_fifo</td>\n",
       "      <td>YES</td>\n",
       "      <td>YES</td>\n",
       "      <td>0.0</td>\n",
       "      <td>0.0</td>\n",
       "      <td>0.068</td>\n",
       "      <td>0.0</td>\n",
       "      <td>0.068</td>\n",
       "      <td>0.0</td>\n",
       "      <td>0</td>\n",
       "      <td>...</td>\n",
       "      <td>0</td>\n",
       "      <td>0</td>\n",
       "      <td>0</td>\n",
       "      <td>0</td>\n",
       "      <td>0</td>\n",
       "      <td>0</td>\n",
       "      <td>0</td>\n",
       "      <td>0</td>\n",
       "      <td>0</td>\n",
       "      <td>0</td>\n",
       "    </tr>\n",
       "    <tr>\n",
       "      <th>2</th>\n",
       "      <td>top_PE_struct</td>\n",
       "      <td>YES</td>\n",
       "      <td>YES</td>\n",
       "      <td>0.049</td>\n",
       "      <td>0.021</td>\n",
       "      <td>0.073</td>\n",
       "      <td>1.119</td>\n",
       "      <td>1.263</td>\n",
       "      <td>7.894</td>\n",
       "      <td>0</td>\n",
       "      <td>...</td>\n",
       "      <td>1</td>\n",
       "      <td>0</td>\n",
       "      <td>1</td>\n",
       "      <td>2</td>\n",
       "      <td>3</td>\n",
       "      <td>0</td>\n",
       "      <td>0</td>\n",
       "      <td>7</td>\n",
       "      <td>7</td>\n",
       "      <td>2</td>\n",
       "    </tr>\n",
       "    <tr>\n",
       "      <th>3</th>\n",
       "      <td>top_mealy_0011</td>\n",
       "      <td>YES</td>\n",
       "      <td>YES</td>\n",
       "      <td>0.13</td>\n",
       "      <td>0.097</td>\n",
       "      <td>0.072</td>\n",
       "      <td>0.417</td>\n",
       "      <td>0.716</td>\n",
       "      <td>6.704</td>\n",
       "      <td>0</td>\n",
       "      <td>...</td>\n",
       "      <td>0</td>\n",
       "      <td>4</td>\n",
       "      <td>4</td>\n",
       "      <td>5</td>\n",
       "      <td>4</td>\n",
       "      <td>0</td>\n",
       "      <td>0</td>\n",
       "      <td>19</td>\n",
       "      <td>19</td>\n",
       "      <td>1</td>\n",
       "    </tr>\n",
       "    <tr>\n",
       "      <th>4</th>\n",
       "      <td>top_moore_0011</td>\n",
       "      <td>YES</td>\n",
       "      <td>YES</td>\n",
       "      <td>0.129</td>\n",
       "      <td>0.098</td>\n",
       "      <td>0.071</td>\n",
       "      <td>0.295</td>\n",
       "      <td>0.593</td>\n",
       "      <td>6.034</td>\n",
       "      <td>0</td>\n",
       "      <td>...</td>\n",
       "      <td>0</td>\n",
       "      <td>2</td>\n",
       "      <td>7</td>\n",
       "      <td>5</td>\n",
       "      <td>4</td>\n",
       "      <td>0</td>\n",
       "      <td>0</td>\n",
       "      <td>20</td>\n",
       "      <td>20</td>\n",
       "      <td>2</td>\n",
       "    </tr>\n",
       "    <tr>\n",
       "      <th>5</th>\n",
       "      <td>top_multiplier</td>\n",
       "      <td>YES</td>\n",
       "      <td>YES</td>\n",
       "      <td>0.14</td>\n",
       "      <td>0.08</td>\n",
       "      <td>0.083</td>\n",
       "      <td>3.709</td>\n",
       "      <td>4.012</td>\n",
       "      <td>9.34</td>\n",
       "      <td>0</td>\n",
       "      <td>...</td>\n",
       "      <td>3</td>\n",
       "      <td>1</td>\n",
       "      <td>4</td>\n",
       "      <td>2</td>\n",
       "      <td>9</td>\n",
       "      <td>0</td>\n",
       "      <td>0</td>\n",
       "      <td>19</td>\n",
       "      <td>19</td>\n",
       "      <td>4</td>\n",
       "    </tr>\n",
       "    <tr>\n",
       "      <th>6</th>\n",
       "      <td>top_CLA8</td>\n",
       "      <td>YES</td>\n",
       "      <td>YES</td>\n",
       "      <td>0.167</td>\n",
       "      <td>0.065</td>\n",
       "      <td>0.088</td>\n",
       "      <td>4.575</td>\n",
       "      <td>4.895</td>\n",
       "      <td>9.882</td>\n",
       "      <td>0</td>\n",
       "      <td>...</td>\n",
       "      <td>1</td>\n",
       "      <td>2</td>\n",
       "      <td>3</td>\n",
       "      <td>3</td>\n",
       "      <td>6</td>\n",
       "      <td>0</td>\n",
       "      <td>0</td>\n",
       "      <td>15</td>\n",
       "      <td>15</td>\n",
       "      <td>2</td>\n",
       "    </tr>\n",
       "    <tr>\n",
       "      <th>7</th>\n",
       "      <td>top_CLA16</td>\n",
       "      <td>YES</td>\n",
       "      <td>YES</td>\n",
       "      <td>0.5</td>\n",
       "      <td>0.194</td>\n",
       "      <td>0.156</td>\n",
       "      <td>10.197</td>\n",
       "      <td>11.046</td>\n",
       "      <td>12.463</td>\n",
       "      <td>0</td>\n",
       "      <td>...</td>\n",
       "      <td>6</td>\n",
       "      <td>4</td>\n",
       "      <td>8</td>\n",
       "      <td>5</td>\n",
       "      <td>22</td>\n",
       "      <td>0</td>\n",
       "      <td>0</td>\n",
       "      <td>45</td>\n",
       "      <td>45</td>\n",
       "      <td>10</td>\n",
       "    </tr>\n",
       "    <tr>\n",
       "      <th>8</th>\n",
       "      <td>top_CLA32</td>\n",
       "      <td>YES</td>\n",
       "      <td>YES</td>\n",
       "      <td>1.749</td>\n",
       "      <td>0.505</td>\n",
       "      <td>0.485</td>\n",
       "      <td>20.474</td>\n",
       "      <td>23.213</td>\n",
       "      <td>18.806</td>\n",
       "      <td>0</td>\n",
       "      <td>...</td>\n",
       "      <td>26</td>\n",
       "      <td>9</td>\n",
       "      <td>14</td>\n",
       "      <td>15</td>\n",
       "      <td>59</td>\n",
       "      <td>0</td>\n",
       "      <td>0</td>\n",
       "      <td>123</td>\n",
       "      <td>123</td>\n",
       "      <td>27</td>\n",
       "    </tr>\n",
       "    <tr>\n",
       "      <th>9</th>\n",
       "      <td>top_RCA</td>\n",
       "      <td>YES</td>\n",
       "      <td>YES</td>\n",
       "      <td>0.174</td>\n",
       "      <td>0.052</td>\n",
       "      <td>0.092</td>\n",
       "      <td>5.284</td>\n",
       "      <td>5.603</td>\n",
       "      <td>9.575</td>\n",
       "      <td>0</td>\n",
       "      <td>...</td>\n",
       "      <td>0</td>\n",
       "      <td>4</td>\n",
       "      <td>0</td>\n",
       "      <td>8</td>\n",
       "      <td>0</td>\n",
       "      <td>0</td>\n",
       "      <td>0</td>\n",
       "      <td>12</td>\n",
       "      <td>12</td>\n",
       "      <td>4</td>\n",
       "    </tr>\n",
       "    <tr>\n",
       "      <th>10</th>\n",
       "      <td>top_CLA64</td>\n",
       "      <td>YES</td>\n",
       "      <td>NO</td>\n",
       "      <td>2.395</td>\n",
       "      <td>1.045</td>\n",
       "      <td>0.485</td>\n",
       "      <td>41.21</td>\n",
       "      <td>45.134</td>\n",
       "      <td>12.929</td>\n",
       "      <td>0</td>\n",
       "      <td>...</td>\n",
       "      <td>48</td>\n",
       "      <td>14</td>\n",
       "      <td>25</td>\n",
       "      <td>44</td>\n",
       "      <td>155</td>\n",
       "      <td>0</td>\n",
       "      <td>0</td>\n",
       "      <td>286</td>\n",
       "      <td>286</td>\n",
       "      <td>53</td>\n",
       "    </tr>\n",
       "    <tr>\n",
       "      <th>11</th>\n",
       "      <td>top_trafficsignal</td>\n",
       "      <td>YES</td>\n",
       "      <td>YES</td>\n",
       "      <td>0.154</td>\n",
       "      <td>0.197</td>\n",
       "      <td>0.075</td>\n",
       "      <td>1.447</td>\n",
       "      <td>1.873</td>\n",
       "      <td>4.917</td>\n",
       "      <td>0</td>\n",
       "      <td>...</td>\n",
       "      <td>4</td>\n",
       "      <td>1</td>\n",
       "      <td>10</td>\n",
       "      <td>14</td>\n",
       "      <td>4</td>\n",
       "      <td>0</td>\n",
       "      <td>0</td>\n",
       "      <td>34</td>\n",
       "      <td>34</td>\n",
       "      <td>2</td>\n",
       "    </tr>\n",
       "    <tr>\n",
       "      <th>12</th>\n",
       "      <td>top_pipelined_conv</td>\n",
       "      <td>YES</td>\n",
       "      <td>YES</td>\n",
       "      <td>118.092</td>\n",
       "      <td>16.532</td>\n",
       "      <td>0.485</td>\n",
       "      <td>12.095</td>\n",
       "      <td>147.205</td>\n",
       "      <td>28.24</td>\n",
       "      <td>5139</td>\n",
       "      <td>...</td>\n",
       "      <td>307</td>\n",
       "      <td>1313</td>\n",
       "      <td>98</td>\n",
       "      <td>344</td>\n",
       "      <td>12009</td>\n",
       "      <td>0</td>\n",
       "      <td>0</td>\n",
       "      <td>14210</td>\n",
       "      <td>14210</td>\n",
       "      <td>343</td>\n",
       "    </tr>\n",
       "    <tr>\n",
       "      <th>13</th>\n",
       "      <td>top_PE_behav</td>\n",
       "      <td>YES</td>\n",
       "      <td>YES</td>\n",
       "      <td>0.041</td>\n",
       "      <td>0.013</td>\n",
       "      <td>0.071</td>\n",
       "      <td>0.337</td>\n",
       "      <td>0.461</td>\n",
       "      <td>7.77</td>\n",
       "      <td>0</td>\n",
       "      <td>...</td>\n",
       "      <td>0</td>\n",
       "      <td>0</td>\n",
       "      <td>2</td>\n",
       "      <td>1</td>\n",
       "      <td>1</td>\n",
       "      <td>0</td>\n",
       "      <td>0</td>\n",
       "      <td>5</td>\n",
       "      <td>5</td>\n",
       "      <td>1</td>\n",
       "    </tr>\n",
       "  </tbody>\n",
       "</table>\n",
       "<p>14 rows × 24 columns</p>\n",
       "</div>"
      ],
      "text/plain": [
       "             File Name Is_Synthesisable Is_Implementable Signal Power(w)  \\\n",
       "0        top_Memory_RW              YES               NO           1.889   \n",
       "1             top_fifo              YES              YES             0.0   \n",
       "2        top_PE_struct              YES              YES           0.049   \n",
       "3       top_mealy_0011              YES              YES            0.13   \n",
       "4       top_moore_0011              YES              YES           0.129   \n",
       "5       top_multiplier              YES              YES            0.14   \n",
       "6             top_CLA8              YES              YES           0.167   \n",
       "7            top_CLA16              YES              YES             0.5   \n",
       "8            top_CLA32              YES              YES           1.749   \n",
       "9              top_RCA              YES              YES           0.174   \n",
       "10           top_CLA64              YES               NO           2.395   \n",
       "11   top_trafficsignal              YES              YES           0.154   \n",
       "12  top_pipelined_conv              YES              YES         118.092   \n",
       "13        top_PE_behav              YES              YES           0.041   \n",
       "\n",
       "   Logic Power(w) Static Power(w) I/O Power(w) Total Power(w)  \\\n",
       "0           0.006           0.485       61.141         63.837   \n",
       "1             0.0           0.068          0.0          0.068   \n",
       "2           0.021           0.073        1.119          1.263   \n",
       "3           0.097           0.072        0.417          0.716   \n",
       "4           0.098           0.071        0.295          0.593   \n",
       "5            0.08           0.083        3.709          4.012   \n",
       "6           0.065           0.088        4.575          4.895   \n",
       "7           0.194           0.156       10.197         11.046   \n",
       "8           0.505           0.485       20.474         23.213   \n",
       "9           0.052           0.092        5.284          5.603   \n",
       "10          1.045           0.485        41.21         45.134   \n",
       "11          0.197           0.075        1.447          1.873   \n",
       "12         16.532           0.485       12.095        147.205   \n",
       "13          0.013           0.071        0.337          0.461   \n",
       "\n",
       "   DataPath Delay(ns) F7_Muxes  ... LUT2  LUT3 LUT4 LUT5   LUT6 LUT7  \\\n",
       "0               5.839        0  ...    0     0    0    0      0    0   \n",
       "1                 0.0        0  ...    0     0    0    0      0    0   \n",
       "2               7.894        0  ...    1     0    1    2      3    0   \n",
       "3               6.704        0  ...    0     4    4    5      4    0   \n",
       "4               6.034        0  ...    0     2    7    5      4    0   \n",
       "5                9.34        0  ...    3     1    4    2      9    0   \n",
       "6               9.882        0  ...    1     2    3    3      6    0   \n",
       "7              12.463        0  ...    6     4    8    5     22    0   \n",
       "8              18.806        0  ...   26     9   14   15     59    0   \n",
       "9               9.575        0  ...    0     4    0    8      0    0   \n",
       "10             12.929        0  ...   48    14   25   44    155    0   \n",
       "11              4.917        0  ...    4     1   10   14      4    0   \n",
       "12              28.24     5139  ...  307  1313   98  344  12009    0   \n",
       "13               7.77        0  ...    0     0    2    1      1    0   \n",
       "\n",
       "   LUT_as_Memory2 LUT_as_Logic2 Slice_LUTs2 LUTs_difference  \n",
       "0               0             0           0               0  \n",
       "1               0             0           0               0  \n",
       "2               0             7           7               2  \n",
       "3               0            19          19               1  \n",
       "4               0            20          20               2  \n",
       "5               0            19          19               4  \n",
       "6               0            15          15               2  \n",
       "7               0            45          45              10  \n",
       "8               0           123         123              27  \n",
       "9               0            12          12               4  \n",
       "10              0           286         286              53  \n",
       "11              0            34          34               2  \n",
       "12              0         14210       14210             343  \n",
       "13              0             5           5               1  \n",
       "\n",
       "[14 rows x 24 columns]"
      ]
     },
     "execution_count": 37,
     "metadata": {},
     "output_type": "execute_result"
    }
   ],
   "source": [
    "df = pd.DataFrame(resultT, columns=heading)\n",
    "df"
   ]
  },
  {
   "cell_type": "markdown",
   "id": "66c36663-5e7f-4c1a-b2cd-ee7b35430cf3",
   "metadata": {},
   "source": [
    "# Converting the dataframe object to a .csv file"
   ]
  },
  {
   "cell_type": "code",
   "execution_count": 38,
   "id": "f807154b-c346-4700-899a-e08b01cb58a2",
   "metadata": {},
   "outputs": [],
   "source": [
    "df.to_csv(\"result.csv\", index=None)"
   ]
  }
 ],
 "metadata": {
  "kernelspec": {
   "display_name": "Python 3",
   "language": "python",
   "name": "python3"
  },
  "language_info": {
   "codemirror_mode": {
    "name": "ipython",
    "version": 3
   },
   "file_extension": ".py",
   "mimetype": "text/x-python",
   "name": "python",
   "nbconvert_exporter": "python",
   "pygments_lexer": "ipython3",
   "version": "3.6.8"
  }
 },
 "nbformat": 4,
 "nbformat_minor": 5
}
